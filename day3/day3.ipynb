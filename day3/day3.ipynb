{
 "cells": [
  {
   "cell_type": "code",
   "execution_count": 8,
   "metadata": {},
   "outputs": [],
   "source": [
    "with open('input.txt') as f:\n",
    "    data = f.readlines()\n",
    "\n",
    "s = \"\"\n",
    "for line in data:\n",
    "    s += line"
   ]
  },
  {
   "cell_type": "markdown",
   "metadata": {},
   "source": [
    "# Part 1"
   ]
  },
  {
   "cell_type": "code",
   "execution_count": 9,
   "metadata": {},
   "outputs": [
    {
     "data": {
      "text/plain": [
       "173785482"
      ]
     },
     "execution_count": 9,
     "metadata": {},
     "output_type": "execute_result"
    }
   ],
   "source": [
    "import re\n",
    "\n",
    "total = 0\n",
    "\n",
    "l_mul = re.findall(r'mul\\(\\d+,\\d+\\)', s)\n",
    "for el in l_mul:\n",
    "    numbers = re.findall(r'\\d+', el)\n",
    "    total += int(numbers[0]) * int(numbers[1])\n",
    "\n",
    "total\n"
   ]
  },
  {
   "cell_type": "markdown",
   "metadata": {},
   "source": [
    "# Part 2"
   ]
  },
  {
   "cell_type": "code",
   "execution_count": 10,
   "metadata": {},
   "outputs": [
    {
     "name": "stdout",
     "output_type": "stream",
     "text": [
      "83158140 42 ['do', 'dont', 'do', 'dont', 'do', 'dont', 'do', 'dont', 'do', 'dont', 'do', 'dont', 'do', 'dont', 'do', 'dont', 'do', 'dont', 'do', 'dont', 'do', 'dont', 'do', 'dont', 'do', 'dont', 'do', 'dont', 'do', 'dont', 'do', 'dont', 'do', 'dont', 'do', 'dont', 'do', 'dont', 'do', 'dont', 'do', 'dont']\n"
     ]
    }
   ],
   "source": [
    "func_count = 0\n",
    "check_state = []\n",
    "\n",
    "def extract_line(line, state='do', mul_line=\"\"):\n",
    "    global func_count, check_state\n",
    "    func_count += 1\n",
    "    check_state.append(state)\n",
    "    if state == 'do':\n",
    "        dont = re.search(r'don\\'t\\(\\)', line)\n",
    "        if not dont:\n",
    "            return mul_line + line\n",
    "        else:\n",
    "            end, start = dont.span()\n",
    "            return extract_line(line[start:], 'dont', mul_line + line[:end])\n",
    "    elif state == 'dont':\n",
    "        do = re.search(r'do\\(\\)', line)\n",
    "        if not do:\n",
    "            return mul_line\n",
    "        else:\n",
    "            end, start = do.span()\n",
    "            return extract_line(line[start:], 'do', mul_line)\n",
    "        \n",
    "    else:\n",
    "        print('error')\n",
    "        return None\n",
    "\n",
    "\n",
    "total = 0\n",
    "mul_line = extract_line(s)\n",
    "l_mul = re.findall(r'mul\\(\\d+,\\d+\\)', mul_line)\n",
    "for el in l_mul:\n",
    "    numbers = re.findall(r'\\d+', el)\n",
    "    total += int(numbers[0]) * int(numbers[1])\n",
    "\n",
    "\n",
    "print(total, func_count, check_state)"
   ]
  }
 ],
 "metadata": {
  "kernelspec": {
   "display_name": "Python 3",
   "language": "python",
   "name": "python3"
  },
  "language_info": {
   "codemirror_mode": {
    "name": "ipython",
    "version": 3
   },
   "file_extension": ".py",
   "mimetype": "text/x-python",
   "name": "python",
   "nbconvert_exporter": "python",
   "pygments_lexer": "ipython3",
   "version": "3.12.1"
  }
 },
 "nbformat": 4,
 "nbformat_minor": 2
}
