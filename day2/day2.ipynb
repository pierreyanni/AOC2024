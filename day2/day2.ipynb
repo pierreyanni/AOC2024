{
 "cells": [
  {
   "cell_type": "code",
   "execution_count": 35,
   "metadata": {},
   "outputs": [],
   "source": [
    "reports = []\n",
    "with open('input.txt', newline='') as f:\n",
    "    data = f.readlines()\n",
    "    for line in data:\n",
    "        report = [int(el) for el in line.split()]\n",
    "        reports.append(report)"
   ]
  },
  {
   "cell_type": "markdown",
   "metadata": {},
   "source": [
    "# Part 1"
   ]
  },
  {
   "cell_type": "code",
   "execution_count": 26,
   "metadata": {},
   "outputs": [
    {
     "data": {
      "text/plain": [
       "2"
      ]
     },
     "execution_count": 26,
     "metadata": {},
     "output_type": "execute_result"
    }
   ],
   "source": [
    "def check_safe(report):\n",
    "    diff = [el1 - el2 for el1, el2 in zip(report[:len(report)], report[1:])]\n",
    "    cond1 = all([diff > 0 for diff in diff]) or all([diff < 0 for diff in diff])\n",
    "    cond2 = all([1 <= abs(diff) <= 3 for diff in diff])\n",
    "    if cond1 and cond2:\n",
    "        return 1\n",
    "    else:\n",
    "        return 0\n",
    "\n",
    "sum([check_safe(report) for report in reports])\n"
   ]
  },
  {
   "cell_type": "markdown",
   "metadata": {},
   "source": [
    "# Part 2"
   ]
  },
  {
   "cell_type": "code",
   "execution_count": 32,
   "metadata": {},
   "outputs": [
    {
     "name": "stdout",
     "output_type": "stream",
     "text": [
      "[6, 4, 2, 1]\n",
      "[4, 2, 1]\n",
      "[6, 2, 1]\n",
      "[6, 4, 1]\n",
      "[6, 4, 2]\n"
     ]
    }
   ],
   "source": [
    "report = reports[0]\n",
    "\n",
    "print(report)\n",
    "for i in range(0, len(report)):\n",
    "    new_report = report[:i] + report[i+1:]\n",
    "    print(new_report)"
   ]
  },
  {
   "cell_type": "code",
   "execution_count": null,
   "metadata": {},
   "outputs": [
    {
     "data": {
      "text/plain": [
       "308"
      ]
     },
     "execution_count": 36,
     "metadata": {},
     "output_type": "execute_result"
    }
   ],
   "source": [
    "report = reports[0]\n",
    "\n",
    "def check_some_safe(report):\n",
    "    if check_safe(report):\n",
    "        return 1\n",
    "    else:\n",
    "        for i in range(0, len(report)):\n",
    "            new_report = report.remove(i)\n",
    "            if check_safe(new_report):\n",
    "                return 1\n",
    "    return 0      \n",
    "    \n",
    "            \n",
    "\n",
    "sum([check_some_safe(report) for report in reports])"
   ]
  },
  {
   "cell_type": "code",
   "execution_count": 55,
   "metadata": {},
   "outputs": [
    {
     "data": {
      "text/plain": [
       "23741109"
      ]
     },
     "execution_count": 55,
     "metadata": {},
     "output_type": "execute_result"
    }
   ],
   "source": [
    "total = 0\n",
    "for x in col1:\n",
    "    occurences = sum([y == x for y in col2])\n",
    "    total += x * occurences\n",
    "\n",
    "total"
   ]
  }
 ],
 "metadata": {
  "kernelspec": {
   "display_name": "Python 3",
   "language": "python",
   "name": "python3"
  },
  "language_info": {
   "codemirror_mode": {
    "name": "ipython",
    "version": 3
   },
   "file_extension": ".py",
   "mimetype": "text/x-python",
   "name": "python",
   "nbconvert_exporter": "python",
   "pygments_lexer": "ipython3",
   "version": "3.12.1"
  }
 },
 "nbformat": 4,
 "nbformat_minor": 2
}
