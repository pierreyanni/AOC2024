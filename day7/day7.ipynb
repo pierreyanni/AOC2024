{
 "cells": [
  {
   "cell_type": "code",
   "execution_count": 6,
   "metadata": {},
   "outputs": [],
   "source": [
    "import re\n",
    "\n",
    "with open('input.txt') as f:\n",
    "    lines = f.read().splitlines()\n",
    "\n",
    "lines\n",
    "\n",
    "{line.split(':')[0] : list(line.split(':')[1]) for line in lines}\n",
    "\n",
    "numbers = re.findall(r'\\d+', lines[0])\n",
    "\n",
    "operations = {}\n",
    "for line in lines:\n",
    "    numbers = re.findall(r'\\d+', line)\n",
    "    operations[int(numbers[0])] = [int(number) for number in numbers[1:]]"
   ]
  },
  {
   "cell_type": "markdown",
   "metadata": {},
   "source": [
    "# Part 1"
   ]
  },
  {
   "cell_type": "code",
   "execution_count": 12,
   "metadata": {},
   "outputs": [],
   "source": [
    "import itertools\n",
    "\n",
    "\n",
    "def compute(numbers, operators):\n",
    "    results = numbers[0]\n",
    "    for el, op in zip(numbers[1:], operators):\n",
    "        results = op(results, el)\n",
    "    return results\n",
    "\n",
    "\n",
    "def compute_total(operations, l_operators):\n",
    "    total = 0\n",
    "    for i, (target, numbers) in enumerate(operations.items()):\n",
    "        if i % 100 == 0:\n",
    "            print(f'{i} out of {len(operations)}')\n",
    "        n_operators = len(numbers) - 1\n",
    "        for operators in itertools.product(l_operators, repeat=n_operators):\n",
    "            subtotal = compute(numbers, operators)\n",
    "            if subtotal == target:\n",
    "                total += subtotal\n",
    "                break\n",
    "    return total"
   ]
  },
  {
   "cell_type": "code",
   "execution_count": 13,
   "metadata": {},
   "outputs": [
    {
     "name": "stdout",
     "output_type": "stream",
     "text": [
      "0 out of 850\n",
      "100 out of 850\n",
      "200 out of 850\n",
      "300 out of 850\n",
      "400 out of 850\n",
      "500 out of 850\n",
      "600 out of 850\n",
      "700 out of 850\n",
      "800 out of 850\n",
      "932137732557\n"
     ]
    }
   ],
   "source": [
    "import numpy as np\n",
    "\n",
    "\n",
    "l_operators = [np.multiply, np.add]\n",
    "\n",
    "print(compute_total(operations, l_operators))"
   ]
  },
  {
   "cell_type": "markdown",
   "metadata": {},
   "source": [
    "# Part 2"
   ]
  },
  {
   "cell_type": "code",
   "execution_count": 14,
   "metadata": {},
   "outputs": [
    {
     "name": "stdout",
     "output_type": "stream",
     "text": [
      "0 out of 850\n",
      "100 out of 850\n",
      "200 out of 850\n",
      "300 out of 850\n",
      "400 out of 850\n",
      "500 out of 850\n",
      "600 out of 850\n",
      "700 out of 850\n",
      "800 out of 850\n",
      "661823605105500\n"
     ]
    }
   ],
   "source": [
    "def concatenate(a, b):\n",
    "    return int(str(a) + str(b))\n",
    "\n",
    "l_operators = [np.multiply, np.add, concatenate]\n",
    "\n",
    "\n",
    "print(compute_total(operations, l_operators))"
   ]
  }
 ],
 "metadata": {
  "kernelspec": {
   "display_name": ".venv",
   "language": "python",
   "name": "python3"
  },
  "language_info": {
   "codemirror_mode": {
    "name": "ipython",
    "version": 3
   },
   "file_extension": ".py",
   "mimetype": "text/x-python",
   "name": "python",
   "nbconvert_exporter": "python",
   "pygments_lexer": "ipython3",
   "version": "3.12.1"
  }
 },
 "nbformat": 4,
 "nbformat_minor": 2
}
