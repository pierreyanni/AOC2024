{
 "cells": [
  {
   "cell_type": "markdown",
   "metadata": {},
   "source": [
    "start at 0\n",
    "find all adjacent 1s\n",
    "from these 1s, find all adajacent and different 2s\n",
    "etc\n",
    "count all different 9s"
   ]
  },
  {
   "cell_type": "code",
   "execution_count": 32,
   "metadata": {},
   "outputs": [
    {
     "data": {
      "text/plain": [
       "array([[4, 3, 2, ..., 0, 0, 1],\n",
       "       [3, 4, 1, ..., 6, 5, 2],\n",
       "       [4, 5, 6, ..., 7, 4, 3],\n",
       "       ...,\n",
       "       [3, 4, 5, ..., 2, 1, 0],\n",
       "       [2, 1, 8, ..., 1, 2, 3],\n",
       "       [3, 0, 9, ..., 2, 3, 4]])"
      ]
     },
     "execution_count": 32,
     "metadata": {},
     "output_type": "execute_result"
    }
   ],
   "source": [
    "import numpy as np\n",
    "\n",
    "with open('input.txt') as f:\n",
    "    lines = f.readlines()\n",
    "    lines = [line.strip() for line in lines]\n",
    "\n",
    "map = np.array([[int(el) for el in line] for line in lines])\n",
    "\n",
    "map"
   ]
  },
  {
   "cell_type": "markdown",
   "metadata": {},
   "source": [
    "# Part 1"
   ]
  },
  {
   "cell_type": "code",
   "execution_count": 5,
   "metadata": {},
   "outputs": [],
   "source": [
    "def filter_positions(positions, number, map):\n",
    "    filtered_positions = []\n",
    "    for pos in positions:\n",
    "        if pos[0] < 0 or pos[0] >= map.shape[0]:\n",
    "            continue\n",
    "        if pos[1] < 0 or pos[1] >= map.shape[1]:\n",
    "            continue\n",
    "        if map[pos] == number:\n",
    "            filtered_positions.append(pos)\n",
    "    return filtered_positions\n",
    "\n",
    "def find_next_number(map, current_pos):\n",
    "    number = map[current_pos]\n",
    "    next_number = number + 1\n",
    "    next_positions = []\n",
    "    for move in ['up', 'right', 'down', 'left']:\n",
    "        if move == 'up':\n",
    "            next_pos = (current_pos[0] - 1, current_pos[1])\n",
    "        elif move == 'right':\n",
    "            next_pos = (current_pos[0], current_pos[1] + 1)\n",
    "        elif move == 'down':\n",
    "            next_pos = (current_pos[0] + 1, current_pos[1])\n",
    "        elif move == 'left':\n",
    "            next_pos = (current_pos[0], current_pos[1] - 1)\n",
    "\n",
    "        next_positions.append(next_pos)\n",
    "    return filter_positions(next_positions, next_number, map)\n",
    "\n",
    "def find_next_numbers(map, current_positions):\n",
    "    all_positions = []\n",
    "    for pos in current_positions:\n",
    "        all_positions.extend(find_next_number(map, pos))\n",
    "    return list(set(all_positions))\n",
    "\n",
    "def compute_score(positions):\n",
    "    while True:\n",
    "        positions = find_next_numbers(map, positions)\n",
    "        if map[positions[0]] == 9:\n",
    "            break\n",
    "    return len(positions)\n",
    "    "
   ]
  },
  {
   "cell_type": "code",
   "execution_count": 6,
   "metadata": {},
   "outputs": [
    {
     "name": "stdout",
     "output_type": "stream",
     "text": [
      "36\n"
     ]
    }
   ],
   "source": [
    "total = 0\n",
    "for i in range(0, len(map)):\n",
    "    for j in range(0, len(map[i])):\n",
    "        position = (i, j)\n",
    "        if map[position] == 0:\n",
    "           score = compute_score([position])\n",
    "           total += score\n",
    "\n",
    "print(total)"
   ]
  },
  {
   "cell_type": "markdown",
   "metadata": {},
   "source": [
    "# Part 2"
   ]
  },
  {
   "cell_type": "code",
   "execution_count": null,
   "metadata": {},
   "outputs": [
    {
     "name": "stdout",
     "output_type": "stream",
     "text": [
      "1\n"
     ]
    }
   ],
   "source": [
    "def find_next_number(map, current_pos):\n",
    "    number = map[current_pos]\n",
    "    next_number = number + 1\n",
    "    next_positions = []\n",
    "    for move in ['up', 'right', 'down', 'left']:\n",
    "        if move == 'up':\n",
    "            next_pos = (current_pos[0] - 1, current_pos[1])\n",
    "        elif move == 'right':\n",
    "            next_pos = (current_pos[0], current_pos[1] + 1)\n",
    "        elif move == 'down':\n",
    "            next_pos = (current_pos[0] + 1, current_pos[1])\n",
    "        elif move == 'left':\n",
    "            next_pos = (current_pos[0], current_pos[1] - 1)\n",
    "\n",
    "        next_positions.append(next_pos)\n",
    "    return filter_positions(next_positions, next_number, map)\n",
    "\n",
    "def find_n_paths(map, current_pos, n_paths=0):\n",
    "    next_positions = find_next_number(map, current_pos)\n",
    "\n",
    "    if next_positions != [] and map[next_positions[0]] == 9:\n",
    "        n_paths += len(next_positions)\n",
    "    for next_position in next_positions:\n",
    "        n_paths = find_n_paths(map, next_position, n_paths)\n",
    "    return n_paths\n",
    "\n",
    "\n",
    "\n",
    "print(find_n_paths(map, (0, 4), 0))"
   ]
  },
  {
   "cell_type": "code",
   "execution_count": 34,
   "metadata": {},
   "outputs": [
    {
     "name": "stdout",
     "output_type": "stream",
     "text": [
      "1619\n"
     ]
    }
   ],
   "source": [
    "total = 0\n",
    "for i in range(0, len(map)):\n",
    "    for j in range(0, len(map[i])):\n",
    "        position = (i, j)\n",
    "        if map[position] == 0:\n",
    "           score = find_n_paths(map, position)\n",
    "           total += score\n",
    "\n",
    "print(total)"
   ]
  }
 ],
 "metadata": {
  "kernelspec": {
   "display_name": ".venv",
   "language": "python",
   "name": "python3"
  },
  "language_info": {
   "codemirror_mode": {
    "name": "ipython",
    "version": 3
   },
   "file_extension": ".py",
   "mimetype": "text/x-python",
   "name": "python",
   "nbconvert_exporter": "python",
   "pygments_lexer": "ipython3",
   "version": "3.12.1"
  }
 },
 "nbformat": 4,
 "nbformat_minor": 2
}
