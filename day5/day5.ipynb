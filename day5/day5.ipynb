{
 "cells": [
  {
   "cell_type": "code",
   "execution_count": 5,
   "metadata": {},
   "outputs": [],
   "source": [
    "import pandas as pd\n",
    "\n",
    "with open('input.txt') as f:\n",
    "    lines = f.read().splitlines() \n",
    "\n",
    "rules = [line.split('|') for line in lines if '|' in line]\n",
    "\n",
    "updates = [line.split(',') for line in lines if ',' in line]\n",
    "\n",
    "\n",
    "df = pd.DataFrame(rules, columns=['before', 'after'])\n",
    "\n",
    "d_rules = {}\n",
    "for before in df.before.unique():\n",
    "    d_rules[before] = set(df.loc[df.before == before, 'after'].values)\n"
   ]
  },
  {
   "cell_type": "markdown",
   "metadata": {},
   "source": [
    "# Part 1"
   ]
  },
  {
   "cell_type": "code",
   "execution_count": 13,
   "metadata": {},
   "outputs": [
    {
     "name": "stdout",
     "output_type": "stream",
     "text": [
      "665 μs ± 75.5 μs per loop (mean ± std. dev. of 7 runs, 1,000 loops each)\n"
     ]
    }
   ],
   "source": [
    "%%timeit\n",
    "\n",
    "def check_valid(update):\n",
    "    rev_update = update[::-1]\n",
    "    for i, el in enumerate(rev_update):\n",
    "        if el in d_rules:\n",
    "            if d_rules[el].intersection(rev_update[i+1:]):\n",
    "                return False\n",
    "    return True\n",
    "\n",
    "total = 0\n",
    "invalids = []\n",
    "for update in updates:\n",
    "    if check_valid(update):\n",
    "        middle = len(update) // 2\n",
    "        total += int(update[middle])\n",
    "    else:\n",
    "        invalids.append(update)\n",
    "\n",
    "\n",
    "total"
   ]
  },
  {
   "cell_type": "markdown",
   "metadata": {},
   "source": [
    "# Part 2"
   ]
  },
  {
   "cell_type": "code",
   "execution_count": 11,
   "metadata": {},
   "outputs": [
    {
     "name": "stdout",
     "output_type": "stream",
     "text": [
      "1.37 ms ± 23 μs per loop (mean ± std. dev. of 7 runs, 1,000 loops each)\n"
     ]
    }
   ],
   "source": [
    "%%timeit\n",
    "\n",
    "import numpy as np\n",
    "\n",
    "def construct_new_update(update, ranks):\n",
    "    new_update = np.zeros(len(update), dtype=int)\n",
    "    for i, el in zip(ranks, update):\n",
    "        new_update[i] = el\n",
    "    return new_update\n",
    "\n",
    "def extract_middle_number(array):\n",
    "\n",
    "    middle = len(array) // 2\n",
    "    return array[middle]\n",
    "\n",
    "new_updates = []\n",
    "for update in invalids:\n",
    "\n",
    "    ranks = []\n",
    "    for el in update:\n",
    "        tot = len(update) - 1\n",
    "        if el in d_rules:\n",
    "            rank = tot - len(d_rules[el].intersection(update))\n",
    "            \n",
    "        else:\n",
    "            rank = tot\n",
    "        ranks.append(rank)\n",
    "\n",
    "    new_update = construct_new_update(update, ranks)\n",
    "    new_updates.append(new_update)\n",
    "\n",
    "\n",
    "total = 0\n",
    "for new_update in new_updates:\n",
    "    middle = extract_middle_number(new_update)\n",
    "    total += middle\n",
    "\n",
    "total    "
   ]
  }
 ],
 "metadata": {
  "kernelspec": {
   "display_name": ".venv",
   "language": "python",
   "name": "python3"
  },
  "language_info": {
   "codemirror_mode": {
    "name": "ipython",
    "version": 3
   },
   "file_extension": ".py",
   "mimetype": "text/x-python",
   "name": "python",
   "nbconvert_exporter": "python",
   "pygments_lexer": "ipython3",
   "version": "3.12.1"
  }
 },
 "nbformat": 4,
 "nbformat_minor": 2
}
