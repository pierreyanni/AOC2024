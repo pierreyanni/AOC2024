{
 "cells": [
  {
   "cell_type": "code",
   "execution_count": 3,
   "metadata": {},
   "outputs": [],
   "source": [
    "import numpy as np\n",
    "\n",
    "with open('input.txt') as f:\n",
    "    data = [list(line.strip()) for line in f]\n",
    "\n",
    "a = np.array(data)"
   ]
  },
  {
   "cell_type": "markdown",
   "metadata": {},
   "source": [
    "# Part 1"
   ]
  },
  {
   "cell_type": "code",
   "execution_count": 61,
   "metadata": {},
   "outputs": [
    {
     "data": {
      "text/plain": [
       "2633"
      ]
     },
     "execution_count": 61,
     "metadata": {},
     "output_type": "execute_result"
    }
   ],
   "source": [
    "import re\n",
    "\n",
    "height, length = a.shape\n",
    "\n",
    "horizontal = [a[i, :].tolist() for i in range(height)]\n",
    "vertical = [a[:, i].tolist() for i in range(height)]\n",
    "diagonal1 = [a.diagonal(i).tolist() for i in range(-height+1, length)]\n",
    "diagonal2 = [np.fliplr(a).diagonal(i).tolist() for i in range(-height+1, length)]\n",
    "\n",
    "lines = (\n",
    "    horizontal + \n",
    "    vertical + \n",
    "    [d for d in diagonal1 if len(d) > 3] + \n",
    "    [d for d in diagonal2 if len(d) > 3]\n",
    ")\n",
    "\n",
    "reversed_lines = [list(reversed(line)) for line in lines]\n",
    "\n",
    "all_strings = [\"\".join(l) for  l in lines + reversed_lines]\n",
    "\n",
    "sum([len(re.findall(r'(XMAS)', s)) for s in all_strings])"
   ]
  },
  {
   "cell_type": "markdown",
   "metadata": {},
   "source": [
    "# Part 2"
   ]
  },
  {
   "cell_type": "code",
   "execution_count": 4,
   "metadata": {},
   "outputs": [
    {
     "data": {
      "text/plain": [
       "1936"
      ]
     },
     "execution_count": 4,
     "metadata": {},
     "output_type": "execute_result"
    }
   ],
   "source": [
    "def check_cross(b):\n",
    "    d1 = np.diag(b).tolist() in (['M', 'A', 'S'], ['S', 'A', 'M'])\n",
    "    d2 = np.diag(np.fliplr(b)).tolist() in (['M', 'A', 'S'], ['S', 'A', 'M'])\n",
    "    return d1 and d2\n",
    "\n",
    "height, length = a.shape\n",
    "crosses = []\n",
    "for i in range(height-2):\n",
    "    for j in range(length-2):\n",
    "        b = a[i: i+3, j:j+3]\n",
    "        crosses.append(check_cross(b))\n",
    "\n",
    "sum(crosses)"
   ]
  }
 ],
 "metadata": {
  "kernelspec": {
   "display_name": ".venv",
   "language": "python",
   "name": "python3"
  },
  "language_info": {
   "codemirror_mode": {
    "name": "ipython",
    "version": 3
   },
   "file_extension": ".py",
   "mimetype": "text/x-python",
   "name": "python",
   "nbconvert_exporter": "python",
   "pygments_lexer": "ipython3",
   "version": "3.12.1"
  }
 },
 "nbformat": 4,
 "nbformat_minor": 2
}
